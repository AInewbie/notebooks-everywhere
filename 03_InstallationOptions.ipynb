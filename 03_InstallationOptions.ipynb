{
  "cells": [
    {
      "metadata": {
        "collapsed": true
      },
      "cell_type": "markdown",
      "source": "## Other Ways to Run Jupyter Notebooks\n\nWe've already talked about https://notebooks.azure.com.  But there are other options available to you:\n\n### Full Blown Anaconda on Windows/Mac/Linux\n\nI'm not going to cover how to do that here.  \n\n### SQL Use Case:  Notebooks in Azure Data Studio\n\nAzure Data Studio (ADS) is a multi-database, cross-platform desktop environment for data professionals.  It's based on Electron/vscode.  In fact, it's always a few releases *behind* the vscode codebase.  This means it supports extensions and all of the other goodness of vscode.  Although not a direct replacement for SSMS, ADS is a great tool for SQL notebook development. \n\nYou can open ipynb files directly from github (or other) via https.  Here's an example:\n\n* [Open a SQL notebook with notebooks.azure.com](04_SampleTSQLNotebook.ipynb)\n* Now open it in ADS. \n  * This could be done by opening the file directly in ADS or \n  * ADS has a Notebook protocol handler.  This lets you add links or buttons that open ADS and download a Notebook from an online location like github\n  \nThe link format is:  \n\n`azuredatastudio://microsoft.notebook/open?url=[Encoded URL]`  \n\nSo the link to open the ABOVE notebook in ADS is:  "
    },
    {
      "metadata": {
        "collapsed": true
      },
      "cell_type": "markdown",
      "source": "%%html\n\n<button class=\"btn btn-success\" onclick=\" window.open('http://google.com','_blank')\"> Google</button>\n\n[azuredatastudio://microsoft.notebook/open?url=https://notebookseverywhere-davew.notebooks.azure.com/j/notebooks/04_SampleTSQLNotebook.ipynb](azuredatastudio://microsoft.notebook/open?url=https://notebookseverywhere-davew.notebooks.azure.com/j/notebooks/04_SampleTSQLNotebook.ipynb)"
    }
  ],
  "metadata": {
    "kernelspec": {
      "name": "python36",
      "display_name": "Python 3.6",
      "language": "python"
    },
    "language_info": {
      "mimetype": "text/x-python",
      "nbconvert_exporter": "python",
      "name": "python",
      "pygments_lexer": "ipython3",
      "version": "3.6.6",
      "file_extension": ".py",
      "codemirror_mode": {
        "version": 3,
        "name": "ipython"
      }
    }
  },
  "nbformat": 4,
  "nbformat_minor": 2
}