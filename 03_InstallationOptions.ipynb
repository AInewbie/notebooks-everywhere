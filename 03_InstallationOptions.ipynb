{
  "cells": [
    {
      "metadata": {
        "collapsed": true
      },
      "cell_type": "markdown",
      "source": "## Other Ways to Run Jupyter Notebooks\n\nWe've already talked about https://notebooks.azure.com.  But there are other options available to you:\n\n### Full Blown Anaconda on Windows/Mac/Linux\n\nI'm not going to cover how to do that here.  \n\n### SQL Use Case:  Notebooks in Azure Data Studio\n\nAzure Data Studio (ADS) is a multi-database, cross-platform desktop environment for data professionals.  It's based on Electron/vscode.  In fact, it's always a few releases *behind* the vscode codebase.  This means it supports extensions and all of the other goodness of vscode.  Although not a direct replacement for SSMS, ADS is a great tool for SQL notebook development. \n\nYou can open ipynb files directly from github (or other) via https.  Here's an example:\n\n* [Open a SQL notebook with notebooks.azure.com](04_SampleTSQLNotebook.ipynb)\n* Now open it in ADS. \n  * This could be done by opening the file directly in ADS or \n  * ADS has a Notebook protocol handler.  This lets you add links or buttons that open ADS and download a Notebook from an online location like github\n  \nThe link format is:  \n\n`azuredatastudio://microsoft.notebook/open?url=[Encoded URL]`  \n\nSo the link to open the ABOVE notebook in ADS is:  \n\n`azuredatastudio://microsoft.notebook/open?url=https://raw.githubusercontent.com/davew-msft/notebooks-everywhere/master/04_SampleTSQLNotebook.ipynb`\n\n### vscode\n\nYou need the Jupyter Notebook extension installed\n\n[This blog post is a good overview](https://devblogs.microsoft.com/python/announcing-support-for-native-editing-of-jupyter-notebooks-in-vs-code/)\n\n\n### Docker Containers\n\nYou can use Docker to allow multiple users to use the same notebook/data without collisions.  You can package the Jupyter software, conda dependencies, and your notebook as a single image.  This, of course, does not mean that development of a single notebook can be done in a truly multi-user environment.  Currently, this isn't possible natively. \n\nHere's an example that should get you started:\n\n```bash\ndocker run \\\n    -p 8888:8888 \\\n    -v /c/dave/git/notebooks-everywhere:/home/jovyan/work \\\n    jupyter/scipy-notebook\ndocker stats\ndocker exec 72da jupyter notebook list\n\n```\n\nThere are also tensorflow, pyspark, etc notebooks.  see github: jupyter/docker-stacks\n\n### JupyterHub and JupyterLab on Kubernetes\n\nJupyterHub with JupyterLab is a newer, multi-user experience.  Each user gets his own Jupyter system, **BUT** it still allows code sharing.  The only limitation, currently, is that 2 users can not concurrently edit the *same* notebook file.  \n\n[This article](https://zero-to-jupyterhub.readthedocs.io/en/latest/setup-jupyterhub.html#setup-jupyterhub) covers JupyterHub installation\n\nMy setup launches with:\n\n```powershell\ncd -d C:\\dave\\containers\\juipyterhub\nhelm upgrade --install jhub jupyterhub/jupyterhub --namespace jhub  --version=0.8.0 --values config.yaml \nkubectl --namespace=jhub get svc proxy-public\nkubectl --namespace=jhub get pod\n\n```\n\nhttp://localhost  \nany user/pwd should start JupyterHub\n/tree gets you to classic notebooks\n/lab gets you to JupyterLab"
    },
    {
      "metadata": {
        "trusted": true
      },
      "cell_type": "code",
      "source": "",
      "execution_count": null,
      "outputs": []
    }
  ],
  "metadata": {
    "kernelspec": {
      "name": "python36",
      "display_name": "Python 3.6",
      "language": "python"
    },
    "language_info": {
      "mimetype": "text/x-python",
      "nbconvert_exporter": "python",
      "name": "python",
      "pygments_lexer": "ipython3",
      "version": "3.6.6",
      "file_extension": ".py",
      "codemirror_mode": {
        "version": 3,
        "name": "ipython"
      }
    }
  },
  "nbformat": 4,
  "nbformat_minor": 2
}