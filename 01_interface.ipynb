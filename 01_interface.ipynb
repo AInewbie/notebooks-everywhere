{
  "cells": [
    {
      "metadata": {
        "collapsed": true
      },
      "cell_type": "markdown",
      "source": "# Working with Jupyter Notebooks"
    },
    {
      "metadata": {
        "trusted": true
      },
      "cell_type": "markdown",
      "source": "## The Execution Environment\n\nPlay with the interface on your own, it's intuitive.  Or, choose Help|User Interface Tour.  \n\nHere are some interesting tidbits:\n\n* `Split Cell`:  Split a cell from the current cursor position\n* `Merge Cell Above`:  merge the current cell with the one above. \n* `Run All`, `Run All Above`, `Run All Below`, etc:  this is useful when you want to save time or made radical changes and need to clear the execution cache.  \n\n### Keyboard Shortcuts\n\nSee `Help|Keyboard Shortcuts` for the complete list.  \n\nJupyter runs a lot like `vim`.  `ESC` takes you to command mode.  \n\nBut it's also a lot like vscode in that `ESC + P` will bring up the command palette.  "
    },
    {
      "metadata": {},
      "cell_type": "markdown",
      "source": "## Magic Commands\n\nMagics alter how the Jupyter execution environment, or cell, behave.  \n\nThe next few cells will give examples of magics.  \n\n"
    },
    {
      "metadata": {
        "trusted": true
      },
      "cell_type": "code",
      "source": "%%markdown\n\n## This is a markdown magic cell",
      "execution_count": null,
      "outputs": []
    },
    {
      "metadata": {},
      "cell_type": "markdown",
      "source": "## Mix-and-Match Languages in a Single Notebook\n\nRun R commands against python objects.  \n\n### Problem:\n\nHow does coffee consumption correlate to developer productivity?  "
    },
    {
      "metadata": {
        "trusted": true
      },
      "cell_type": "code",
      "source": "# run an OS command to install some pip dependencies\n# ! is a \"magic alias\" for %%bash\n# you can actually create a markdown cell with %%markdown\n! pip install tzlocal",
      "execution_count": 2,
      "outputs": [
        {
          "output_type": "stream",
          "text": "Collecting tzlocal\n  Downloading https://files.pythonhosted.org/packages/ef/99/53bd1ac9349262f59c1c421d8fcc2559ae8a5eeffed9202684756b648d33/tzlocal-2.0.0-py2.py3-none-any.whl\nRequirement already satisfied: pytz in /home/nbuser/anaconda3_501/lib/python3.6/site-packages (from tzlocal) (2018.7)\nInstalling collected packages: tzlocal\nSuccessfully installed tzlocal-2.0.0\n\u001b[33mWARNING: You are using pip version 19.2.2, however version 19.3 is available.\nYou should consider upgrading via the 'pip install --upgrade pip' command.\u001b[0m\n",
          "name": "stdout"
        }
      ]
    },
    {
      "metadata": {
        "trusted": true
      },
      "cell_type": "code",
      "source": "# note that we are in a python notebook \"kernel\" but we can run R commands in individual cells (assuming R is installed)\n# let's mix-and-match R and python objects together\n%load_ext rpy2.ipython\n ",
      "execution_count": 4,
      "outputs": [
        {
          "output_type": "stream",
          "text": "The rpy2.ipython extension is already loaded. To reload it, use:\n  %reload_ext rpy2.ipython\n",
          "name": "stdout"
        }
      ]
    },
    {
      "metadata": {
        "trusted": true
      },
      "cell_type": "code",
      "source": "# this is a python cell, since there is no \"magic\" and we are in a python kernel notebook\nimport pandas as pd\ndf = pd.DataFrame({\n    'cups_of_coffee': [0, 1, 2, 3, 4, 5, 6, 7, 8, 9],\n    'productivity': [2, 5, 6, 8, 9, 8, 0, 1, 0, -1]\n})",
      "execution_count": 6,
      "outputs": []
    },
    {
      "metadata": {
        "trusted": true
      },
      "cell_type": "code",
      "source": "%%R -i df -w 5 -h 5 --units in -r 200\n# import df from global environment\n# make default figure size 5 by 5 inches with 200 dpi resolution\n\ninstall.packages(\"ggplot2\", repos='http://cran.us.r-project.org', quiet=TRUE)\nlibrary(ggplot2)",
      "execution_count": 7,
      "outputs": []
    },
    {
      "metadata": {
        "trusted": true
      },
      "cell_type": "code",
      "source": "%%R\nggplot(df, aes(x=cups_of_coffee, y=productivity)) + geom_line()",
      "execution_count": 8,
      "outputs": [
        {
          "output_type": "display_data",
          "data": {
            "image/png": "[encoded data removed]"
          },
          "metadata": {}
        }
      ]
    },
    {
      "metadata": {
        "trusted": true
      },
      "cell_type": "code",
      "source": "%lsmagic",
      "execution_count": 9,
      "outputs": [
        {
          "output_type": "execute_result",
          "execution_count": 9,
          "data": {
            "application/json": {
              "cell": {
                "markdown": "DisplayMagics",
                "prun": "ExecutionMagics",
                "file": "Other",
                "!": "OSMagics",
                "capture": "ExecutionMagics",
                "timeit": "ExecutionMagics",
                "script": "ScriptMagics",
                "pypy": "Other",
                "system": "OSMagics",
                "perl": "Other",
                "html": "DisplayMagics",
                "python3": "Other",
                "HTML": "Other",
                "python": "Other",
                "SVG": "Other",
                "javascript": "DisplayMagics",
                "js": "DisplayMagics",
                "writefile": "OSMagics",
                "R": "RMagics",
                "ruby": "Other",
                "bash": "Other",
                "python2": "Other",
                "latex": "DisplayMagics",
                "sx": "OSMagics",
                "svg": "DisplayMagics",
                "sh": "Other",
                "time": "ExecutionMagics",
                "debug": "ExecutionMagics"
              },
              "line": {
                "psource": "NamespaceMagics",
                "logstart": "LoggingMagics",
                "popd": "OSMagics",
                "loadpy": "CodeMagics",
                "colors": "BasicMagics",
                "who_ls": "NamespaceMagics",
                "lf": "Other",
                "ll": "Other",
                "pprint": "BasicMagics",
                "lk": "Other",
                "Rdevice": "RMagics",
                "autoawait": "AsyncMagics",
                "ls": "Other",
                "save": "CodeMagics",
                "tb": "ExecutionMagics",
                "lx": "Other",
                "pylab": "PylabMagics",
                "killbgscripts": "ScriptMagics",
                "quickref": "BasicMagics",
                "magic": "BasicMagics",
                "dhist": "OSMagics",
                "edit": "KernelMagics",
                "logstop": "LoggingMagics",
                "gui": "BasicMagics",
                "prun": "ExecutionMagics",
                "debug": "ExecutionMagics",
                "page": "BasicMagics",
                "logstate": "LoggingMagics",
                "ed": "Other",
                "pushd": "OSMagics",
                "timeit": "ExecutionMagics",
                "set_env": "OSMagics",
                "rep": "Other",
                "hist": "Other",
                "qtconsole": "KernelMagics",
                "rm": "Other",
                "dirs": "OSMagics",
                "run": "ExecutionMagics",
                "reset_selective": "NamespaceMagics",
                "pinfo2": "NamespaceMagics",
                "matplotlib": "PylabMagics",
                "unload_ext": "ExtensionMagics",
                "doctest_mode": "BasicMagics",
                "logoff": "LoggingMagics",
                "reload_ext": "ExtensionMagics",
                "pdb": "ExecutionMagics",
                "Rpush": "RMagics",
                "load": "CodeMagics",
                "lsmagic": "BasicMagics",
                "autosave": "KernelMagics",
                "cd": "OSMagics",
                "pastebin": "CodeMagics",
                "alias_magic": "BasicMagics",
                "cp": "Other",
                "autocall": "AutoMagics",
                "ldir": "Other",
                "bookmark": "OSMagics",
                "connect_info": "KernelMagics",
                "mkdir": "Other",
                "system": "OSMagics",
                "whos": "NamespaceMagics",
                "rmdir": "Other",
                "automagic": "AutoMagics",
                "store": "StoreMagics",
                "more": "KernelMagics",
                "pdef": "NamespaceMagics",
                "precision": "BasicMagics",
                "pinfo": "NamespaceMagics",
                "pwd": "OSMagics",
                "psearch": "NamespaceMagics",
                "reset": "NamespaceMagics",
                "recall": "HistoryMagics",
                "xdel": "NamespaceMagics",
                "xmode": "BasicMagics",
                "cat": "Other",
                "mv": "Other",
                "rerun": "HistoryMagics",
                "logon": "LoggingMagics",
                "history": "HistoryMagics",
                "pycat": "OSMagics",
                "pip": "BasicMagics",
                "unalias": "OSMagics",
                "Rget": "RMagics",
                "env": "OSMagics",
                "load_ext": "ExtensionMagics",
                "config": "ConfigMagics",
                "pfile": "NamespaceMagics",
                "less": "KernelMagics",
                "who": "NamespaceMagics",
                "notebook": "BasicMagics",
                "man": "KernelMagics",
                "Rpull": "RMagics",
                "sx": "OSMagics",
                "macro": "ExecutionMagics",
                "clear": "KernelMagics",
                "alias": "OSMagics",
                "R": "RMagics",
                "time": "ExecutionMagics",
                "sc": "OSMagics",
                "rehashx": "OSMagics",
                "pdoc": "NamespaceMagics"
              }
            },
            "text/plain": "Available line magics:\n%R  %Rdevice  %Rget  %Rpull  %Rpush  %alias  %alias_magic  %autoawait  %autocall  %automagic  %autosave  %bookmark  %cat  %cd  %clear  %colors  %config  %connect_info  %cp  %debug  %dhist  %dirs  %doctest_mode  %ed  %edit  %env  %gui  %hist  %history  %killbgscripts  %ldir  %less  %lf  %lk  %ll  %load  %load_ext  %loadpy  %logoff  %logon  %logstart  %logstate  %logstop  %ls  %lsmagic  %lx  %macro  %magic  %man  %matplotlib  %mkdir  %more  %mv  %notebook  %page  %pastebin  %pdb  %pdef  %pdoc  %pfile  %pinfo  %pinfo2  %popd  %pprint  %precision  %prun  %psearch  %psource  %pushd  %pwd  %pycat  %pylab  %qtconsole  %quickref  %recall  %rehashx  %reload_ext  %rep  %rerun  %reset  %reset_selective  %rm  %rmdir  %run  %save  %sc  %set_env  %store  %sx  %system  %tb  %time  %timeit  %unalias  %unload_ext  %who  %who_ls  %whos  %xdel  %xmode\n\nAvailable cell magics:\n%%!  %%HTML  %%R  %%SVG  %%bash  %%capture  %%debug  %%file  %%html  %%javascript  %%js  %%latex  %%markdown  %%perl  %%prun  %%pypy  %%python  %%python2  %%python3  %%ruby  %%script  %%sh  %%svg  %%sx  %%system  %%time  %%timeit  %%writefile\n\nAutomagic is ON, % prefix IS NOT needed for line magics."
          },
          "metadata": {}
        }
      ]
    },
    {
      "metadata": {
        "trusted": true
      },
      "cell_type": "code",
      "source": "%matplotlib inline\n\n# this is commonly put in a cell near the top of most notebooks.  This keeps python plots inline vs saved offline",
      "execution_count": 10,
      "outputs": []
    },
    {
      "metadata": {
        "trusted": true
      },
      "cell_type": "code",
      "source": "%pwd",
      "execution_count": 11,
      "outputs": [
        {
          "output_type": "execute_result",
          "execution_count": 11,
          "data": {
            "text/plain": "'/home/nbuser/library'"
          },
          "metadata": {}
        }
      ]
    },
    {
      "metadata": {
        "trusted": true
      },
      "cell_type": "code",
      "source": "%%html\n\n<button id='button' href='#' onclick='alert(\"Hello World\")'>Click Me</a>",
      "execution_count": 12,
      "outputs": [
        {
          "output_type": "display_data",
          "data": {
            "text/html": "\n<button id='button' href='#' onclick='alert(\"Hello World\")'>Click Me</a>\n",
            "text/plain": "<IPython.core.display.HTML object>"
          },
          "metadata": {}
        }
      ]
    },
    {
      "metadata": {
        "trusted": true
      },
      "cell_type": "code",
      "source": "%%javascript\n\nlet name = prompt(\"What is your name?\");\nalert (\"What's up \" + name + \"?\");",
      "execution_count": 13,
      "outputs": [
        {
          "output_type": "display_data",
          "data": {
            "application/javascript": "\nlet name = prompt(\"What is your name?\");\nalert (\"What's up \" + name + \"?\");\n",
            "text/plain": "<IPython.core.display.Javascript object>"
          },
          "metadata": {}
        }
      ]
    }
  ],
  "metadata": {
    "kernelspec": {
      "name": "python36",
      "display_name": "Python 3.6",
      "language": "python"
    },
    "language_info": {
      "mimetype": "text/x-python",
      "nbconvert_exporter": "python",
      "name": "python",
      "pygments_lexer": "ipython3",
      "version": "3.6.6",
      "file_extension": ".py",
      "codemirror_mode": {
        "version": 3,
        "name": "ipython"
      }
    }
  },
  "nbformat": 4,
  "nbformat_minor": 2
}