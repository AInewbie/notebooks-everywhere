{
  "cells": [
    {
      "metadata": {
        "collapsed": true
      },
      "cell_type": "markdown",
      "source": "# Working with Jupyter Notebooks"
    },
    {
      "metadata": {
        "trusted": true
      },
      "cell_type": "markdown",
      "source": "## The Execution Environment\n\nPlay with the interface on your own, it's intuitive.  Or, choose Help|User Interface Tour.  \n\nHere are some interesting tidbits:\n\n* `Split Cell`:  Split a cell from the current cursor position\n* `Merge Cell Above`:  merge the current cell with the one above. \n* `Run All`, `Run All Above`, `Run All Below`, etc:  this is useful when you want to save time or made radical changes and need to clear the execution cache.  \n\n### Keyboard Shortcuts\n\nSee `Help|Keyboard Shortcuts` for the complete list.  \n\nJupyter runs a lot like `vim`.  `ESC` takes you to command mode.  \n\nBut it's also a lot like vscode in that `ESC + P` will bring up the command palette.  "
    },
    {
      "metadata": {},
      "cell_type": "markdown",
      "source": "## Magic Commands\n\nMagics alter how the Jupyter execution environment, or cell, behave.  \n\nThe next few cells will give examples of magics.  \n\n"
    },
    {
      "metadata": {
        "trusted": true
      },
      "cell_type": "code",
      "source": "%%markdown\n\n## This is a markdown magic cell",
      "execution_count": null,
      "outputs": []
    },
    {
      "metadata": {},
      "cell_type": "markdown",
      "source": "## Run R commands against python objects"
    },
    {
      "metadata": {
        "trusted": true
      },
      "cell_type": "code",
      "source": "# run an OS command to install some pip dependencies\n# ! is a \"magic alias\" for %%bash\n# you can actually create a markdown cell with %%markdown\n! pip install tzlocal",
      "execution_count": null,
      "outputs": []
    },
    {
      "metadata": {
        "trusted": true
      },
      "cell_type": "code",
      "source": "# note that we are in a python notebook \"kernel\" but we can run R commands in individual cells (assuming R is installed)\n# let's mix-and-match R and python objects together\n%load_ext rpy2.ipython\n ",
      "execution_count": null,
      "outputs": []
    },
    {
      "metadata": {
        "trusted": true
      },
      "cell_type": "code",
      "source": "# this is a python cell, since there is \"magic\" and we are in a python kernel notebook\nimport pandas as pd\ndf = pd.DataFrame({\n    'cups_of_coffee': [0, 1, 2, 3, 4, 5, 6, 7, 8, 9],\n    'productivity': [2, 5, 6, 8, 9, 8, 0, 1, 0, -1]\n})",
      "execution_count": null,
      "outputs": []
    },
    {
      "metadata": {
        "trusted": true
      },
      "cell_type": "code",
      "source": "%%R -i df -w 5 -h 5 --units in -r 200\n# import df from global environment\n# make default figure size 5 by 5 inches with 200 dpi resolution\n\ninstall.packages(\"ggplot2\", repos='http://cran.us.r-project.org', quiet=TRUE)\nlibrary(ggplot2)",
      "execution_count": null,
      "outputs": []
    },
    {
      "metadata": {
        "trusted": true
      },
      "cell_type": "code",
      "source": "%%R\nggplot(df, aes(x=cups_of_coffee, y=productivity)) + geom_line()",
      "execution_count": null,
      "outputs": []
    },
    {
      "metadata": {
        "trusted": true
      },
      "cell_type": "code",
      "source": "%lsmagic",
      "execution_count": null,
      "outputs": []
    },
    {
      "metadata": {
        "trusted": true
      },
      "cell_type": "code",
      "source": "%matplotlib inline\n\n# this is commonly put in a cell near the top of most notebooks.  This keeps python plots inline vs saved offline",
      "execution_count": null,
      "outputs": []
    },
    {
      "metadata": {
        "trusted": true
      },
      "cell_type": "code",
      "source": "%pwd",
      "execution_count": null,
      "outputs": []
    },
    {
      "metadata": {
        "trusted": true
      },
      "cell_type": "code",
      "source": "%%html\n\n<button id='button' href='#' onclick='alert(\"Hello World\")'>Click Me</a>",
      "execution_count": null,
      "outputs": []
    },
    {
      "metadata": {
        "trusted": true
      },
      "cell_type": "code",
      "source": "%%javascript\n\nlet name = prompt(\"What is your name?\");\nalert (\"What's up \" + name + \"?\");",
      "execution_count": null,
      "outputs": []
    },
    {
      "metadata": {
        "trusted": true
      },
      "cell_type": "code",
      "source": "",
      "execution_count": null,
      "outputs": []
    }
  ],
  "metadata": {
    "kernelspec": {
      "name": "python36",
      "display_name": "Python 3.6",
      "language": "python"
    },
    "language_info": {
      "mimetype": "text/x-python",
      "nbconvert_exporter": "python",
      "name": "python",
      "pygments_lexer": "ipython3",
      "version": "3.6.6",
      "file_extension": ".py",
      "codemirror_mode": {
        "version": 3,
        "name": "ipython"
      }
    }
  },
  "nbformat": 4,
  "nbformat_minor": 2
}