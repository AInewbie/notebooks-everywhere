{
  "cells": [
    {
      "metadata": {
        "collapsed": true
      },
      "cell_type": "markdown",
      "source": "## Various Productivity Tips\n\n### Can I schedule a notebook?  \n\nThis is helpful if you want to write your data engineering code as a nightly job.  \n\n* Netflix created Papermill to do this.  \n  * https://papermill.readthedocs.io/en/latest/index.html\n  * https://github.com/nteract/papermill\n* or you can use Jupyter's [EXECUTE API](https://nbconvert.readthedocs.io/en/latest/execute_api.html#executing-notebooks-from-the-command-line)\n* or you can bundle your `.ipynb` and call them from the CLI like this\n  * `jupyter nbconvert --to notebook --execute mynotebook.ipynb`\n\n\n### Multiuser and Sharing Options\n\nYou can share a notebook, but multiuser notebooks were an afterthought.  \n\nOr consider JupyterHub, discussed earlier:\n\n* Each user gets a new instance of the Jupyter software when they login.  This avoids environment and variable clashes.  \n* JupyterHub-like features are not yet available in notebooks.azure.com\n* Azure Notebook VMs are a solution but user mgmt requires you to create users/passwords in JupyterHub, you can't use OAUTH or similar\n* you can spin up JupyterHub in docker containers/k8s...or...\n* `pip install jupyterhub`\n\nOr consider Docker containers:\n\nYou can use Docker to allow multiple users to use the same notebook/data without collisions.  You can package the Jupyter software, conda dependencies, and your notebook as a single image.\n\n### Widgets\n\n...are used to gather user input:\n\n* text input\n* button clicks\n* sliders\n* toggles and check boxes\n* dropdown boxes\n"
    },
    {
      "metadata": {
        "trusted": true
      },
      "cell_type": "code",
      "source": "!pip install --upgrade ipywidgets",
      "execution_count": 3,
      "outputs": [
        {
          "output_type": "stream",
          "text": "Collecting ipywidgets\n  Using cached https://files.pythonhosted.org/packages/56/a0/dbcf5881bb2f51e8db678211907f16ea0a182b232c591a6d6f276985ca95/ipywidgets-7.5.1-py2.py3-none-any.whl\nRequirement already satisfied, skipping upgrade: traitlets>=4.3.1 in /home/nbuser/anaconda3_501/lib/python3.6/site-packages (from ipywidgets) (4.3.2)\nRequirement already satisfied, skipping upgrade: ipython>=4.0.0; python_version >= \"3.3\" in /home/nbuser/anaconda3_501/lib/python3.6/site-packages (from ipywidgets) (7.1.1)\nRequirement already satisfied, skipping upgrade: ipykernel>=4.5.1 in /home/nbuser/anaconda3_501/lib/python3.6/site-packages (from ipywidgets) (5.1.0)\nCollecting widgetsnbextension~=3.5.0 (from ipywidgets)\n  Using cached https://files.pythonhosted.org/packages/6c/7b/7ac231c20d2d33c445eaacf8a433f4e22c60677eb9776c7c5262d7ddee2d/widgetsnbextension-3.5.1-py2.py3-none-any.whl\nRequirement already satisfied, skipping upgrade: nbformat>=4.2.0 in /home/nbuser/anaconda3_501/lib/python3.6/site-packages (from ipywidgets) (4.4.0)\nRequirement already satisfied, skipping upgrade: decorator in /home/nbuser/anaconda3_501/lib/python3.6/site-packages (from traitlets>=4.3.1->ipywidgets) (4.3.0)\nRequirement already satisfied, skipping upgrade: ipython-genutils in /home/nbuser/anaconda3_501/lib/python3.6/site-packages (from traitlets>=4.3.1->ipywidgets) (0.2.0)\nRequirement already satisfied, skipping upgrade: six in /home/nbuser/anaconda3_501/lib/python3.6/site-packages (from traitlets>=4.3.1->ipywidgets) (1.11.0)\nRequirement already satisfied, skipping upgrade: setuptools>=18.5 in /home/nbuser/anaconda3_501/lib/python3.6/site-packages (from ipython>=4.0.0; python_version >= \"3.3\"->ipywidgets) (41.1.0)\nRequirement already satisfied, skipping upgrade: pygments in /home/nbuser/anaconda3_501/lib/python3.6/site-packages (from ipython>=4.0.0; python_version >= \"3.3\"->ipywidgets) (2.2.0)\nRequirement already satisfied, skipping upgrade: jedi>=0.10 in /home/nbuser/anaconda3_501/lib/python3.6/site-packages (from ipython>=4.0.0; python_version >= \"3.3\"->ipywidgets) (0.13.1)\nRequirement already satisfied, skipping upgrade: backcall in /home/nbuser/anaconda3_501/lib/python3.6/site-packages (from ipython>=4.0.0; python_version >= \"3.3\"->ipywidgets) (0.1.0)\nRequirement already satisfied, skipping upgrade: pickleshare in /home/nbuser/anaconda3_501/lib/python3.6/site-packages (from ipython>=4.0.0; python_version >= \"3.3\"->ipywidgets) (0.7.5)\nRequirement already satisfied, skipping upgrade: prompt-toolkit<2.1.0,>=2.0.0 in /home/nbuser/anaconda3_501/lib/python3.6/site-packages (from ipython>=4.0.0; python_version >= \"3.3\"->ipywidgets) (2.0.7)\nRequirement already satisfied, skipping upgrade: pexpect; sys_platform != \"win32\" in /home/nbuser/anaconda3_501/lib/python3.6/site-packages (from ipython>=4.0.0; python_version >= \"3.3\"->ipywidgets) (4.6.0)\nRequirement already satisfied, skipping upgrade: tornado>=4.2 in /home/nbuser/anaconda3_501/lib/python3.6/site-packages (from ipykernel>=4.5.1->ipywidgets) (4.5.3)\nRequirement already satisfied, skipping upgrade: jupyter-client in /home/nbuser/anaconda3_501/lib/python3.6/site-packages (from ipykernel>=4.5.1->ipywidgets) (5.2.3)\nRequirement already satisfied, skipping upgrade: notebook>=4.4.1 in /home/nbuser/anaconda3_501/lib/python3.6/site-packages (from widgetsnbextension~=3.5.0->ipywidgets) (5.7.2)\nRequirement already satisfied, skipping upgrade: jsonschema!=2.5.0,>=2.4 in /home/nbuser/anaconda3_501/lib/python3.6/site-packages (from nbformat>=4.2.0->ipywidgets) (2.6.0)\nRequirement already satisfied, skipping upgrade: jupyter-core in /home/nbuser/anaconda3_501/lib/python3.6/site-packages (from nbformat>=4.2.0->ipywidgets) (4.4.0)\nRequirement already satisfied, skipping upgrade: parso>=0.3.0 in /home/nbuser/anaconda3_501/lib/python3.6/site-packages (from jedi>=0.10->ipython>=4.0.0; python_version >= \"3.3\"->ipywidgets) (0.3.1)\nRequirement already satisfied, skipping upgrade: wcwidth in /home/nbuser/anaconda3_501/lib/python3.6/site-packages (from prompt-toolkit<2.1.0,>=2.0.0->ipython>=4.0.0; python_version >= \"3.3\"->ipywidgets) (0.1.7)\nRequirement already satisfied, skipping upgrade: ptyprocess>=0.5 in /home/nbuser/anaconda3_501/lib/python3.6/site-packages (from pexpect; sys_platform != \"win32\"->ipython>=4.0.0; python_version >= \"3.3\"->ipywidgets) (0.6.0)\nRequirement already satisfied, skipping upgrade: pyzmq>=13 in /home/nbuser/anaconda3_501/lib/python3.6/site-packages (from jupyter-client->ipykernel>=4.5.1->ipywidgets) (17.1.2)\nRequirement already satisfied, skipping upgrade: python-dateutil>=2.1 in /home/nbuser/anaconda3_501/lib/python3.6/site-packages (from jupyter-client->ipykernel>=4.5.1->ipywidgets) (2.8.0)\nRequirement already satisfied, skipping upgrade: Send2Trash in /home/nbuser/anaconda3_501/lib/python3.6/site-packages (from notebook>=4.4.1->widgetsnbextension~=3.5.0->ipywidgets) (1.5.0)\nRequirement already satisfied, skipping upgrade: jinja2 in /home/nbuser/anaconda3_501/lib/python3.6/site-packages (from notebook>=4.4.1->widgetsnbextension~=3.5.0->ipywidgets) (2.10)\nRequirement already satisfied, skipping upgrade: nbconvert in /home/nbuser/anaconda3_501/lib/python3.6/site-packages (from notebook>=4.4.1->widgetsnbextension~=3.5.0->ipywidgets) (5.6.0)\nRequirement already satisfied, skipping upgrade: terminado>=0.8.1 in /home/nbuser/anaconda3_501/lib/python3.6/site-packages (from notebook>=4.4.1->widgetsnbextension~=3.5.0->ipywidgets) (0.8.1)\nRequirement already satisfied, skipping upgrade: prometheus-client in /home/nbuser/anaconda3_501/lib/python3.6/site-packages (from notebook>=4.4.1->widgetsnbextension~=3.5.0->ipywidgets) (0.4.2)\nRequirement already satisfied, skipping upgrade: MarkupSafe>=0.23 in /home/nbuser/anaconda3_501/lib/python3.6/site-packages (from jinja2->notebook>=4.4.1->widgetsnbextension~=3.5.0->ipywidgets) (1.1.0)\nRequirement already satisfied, skipping upgrade: pandocfilters>=1.4.1 in /home/nbuser/anaconda3_501/lib/python3.6/site-packages (from nbconvert->notebook>=4.4.1->widgetsnbextension~=3.5.0->ipywidgets) (1.4.2)\nRequirement already satisfied, skipping upgrade: testpath in /home/nbuser/anaconda3_501/lib/python3.6/site-packages (from nbconvert->notebook>=4.4.1->widgetsnbextension~=3.5.0->ipywidgets) (0.4.2)\nRequirement already satisfied, skipping upgrade: defusedxml in /home/nbuser/anaconda3_501/lib/python3.6/site-packages (from nbconvert->notebook>=4.4.1->widgetsnbextension~=3.5.0->ipywidgets) (0.5.0)\nRequirement already satisfied, skipping upgrade: bleach in /home/nbuser/anaconda3_501/lib/python3.6/site-packages (from nbconvert->notebook>=4.4.1->widgetsnbextension~=3.5.0->ipywidgets) (1.5.0)\nRequirement already satisfied, skipping upgrade: mistune<2,>=0.8.1 in /home/nbuser/anaconda3_501/lib/python3.6/site-packages (from nbconvert->notebook>=4.4.1->widgetsnbextension~=3.5.0->ipywidgets) (0.8.4)\nRequirement already satisfied, skipping upgrade: entrypoints>=0.2.2 in /home/nbuser/anaconda3_501/lib/python3.6/site-packages (from nbconvert->notebook>=4.4.1->widgetsnbextension~=3.5.0->ipywidgets) (0.2.3)\nRequirement already satisfied, skipping upgrade: html5lib!=0.9999,!=0.99999,<0.99999999,>=0.999 in /home/nbuser/anaconda3_501/lib/python3.6/site-packages (from bleach->nbconvert->notebook>=4.4.1->widgetsnbextension~=3.5.0->ipywidgets) (0.9999999)\nInstalling collected packages: widgetsnbextension, ipywidgets\n  Found existing installation: widgetsnbextension 3.4.2\n    Uninstalling widgetsnbextension-3.4.2:\n      Successfully uninstalled widgetsnbextension-3.4.2\n  Found existing installation: ipywidgets 7.4.2\n    Uninstalling ipywidgets-7.4.2:\n      Successfully uninstalled ipywidgets-7.4.2\nSuccessfully installed ipywidgets-7.5.1 widgetsnbextension-3.5.1\n\u001b[33mWARNING: You are using pip version 19.2.2, however version 19.3 is available.\nYou should consider upgrading via the 'pip install --upgrade pip' command.\u001b[0m\n",
          "name": "stdout"
        }
      ]
    },
    {
      "metadata": {
        "trusted": true
      },
      "cell_type": "code",
      "source": "!jupyter nbextension enable --py widgetsnbextension",
      "execution_count": 7,
      "outputs": [
        {
          "output_type": "stream",
          "text": "Enabling notebook extension jupyter-js-widgets/extension...\r\n      - Validating: \u001b[32mOK\u001b[0m\r\n",
          "name": "stdout"
        }
      ]
    },
    {
      "metadata": {
        "trusted": true
      },
      "cell_type": "code",
      "source": "# sliders to gather numeric input\n\nfrom ipywidgets import interact\n\ndef myfunction(arg):\n    return arg+1\n\ninteract (myfunction, arg=9);",
      "execution_count": 14,
      "outputs": [
        {
          "output_type": "display_data",
          "data": {
            "application/vnd.jupyter.widget-view+json": {
              "model_id": "1d4c8f9660a64a6aa24a702f1acc5585",
              "version_minor": 0,
              "version_major": 2
            },
            "text/plain": "interactive(children=(IntSlider(value=9, description='arg', max=27, min=-9), Output()), _dom_classes=('widget-…"
          },
          "metadata": {}
        }
      ]
    },
    {
      "metadata": {
        "trusted": true
      },
      "cell_type": "code",
      "source": "def myfunction(x):\n    return x",
      "execution_count": 16,
      "outputs": []
    },
    {
      "metadata": {
        "trusted": true
      },
      "cell_type": "code",
      "source": "# gather a parameter\ninteract(myfunction, x='Hello World');\n\n",
      "execution_count": 17,
      "outputs": [
        {
          "output_type": "display_data",
          "data": {
            "application/vnd.jupyter.widget-view+json": {
              "model_id": "b48506cfa024485c8d4d197b994eaaa5",
              "version_minor": 0,
              "version_major": 2
            },
            "text/plain": "interactive(children=(Text(value='Hello World', description='x'), Output()), _dom_classes=('widget-interact',)…"
          },
          "metadata": {}
        }
      ]
    }
  ],
  "metadata": {
    "kernelspec": {
      "name": "python36",
      "display_name": "Python 3.6",
      "language": "python"
    },
    "language_info": {
      "mimetype": "text/x-python",
      "nbconvert_exporter": "python",
      "name": "python",
      "pygments_lexer": "ipython3",
      "version": "3.6.6",
      "file_extension": ".py",
      "codemirror_mode": {
        "version": 3,
        "name": "ipython"
      }
    }
  },
  "nbformat": 4,
  "nbformat_minor": 2
}